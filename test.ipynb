{
 "cells": [
  {
   "cell_type": "code",
   "execution_count": 10,
   "metadata": {},
   "outputs": [],
   "source": [
    "import pandas as pd\n",
    "import numpy as np"
   ]
  },
  {
   "cell_type": "code",
   "execution_count": 11,
   "metadata": {},
   "outputs": [
    {
     "data": {
      "text/html": [
       "<div>\n",
       "<style scoped>\n",
       "    .dataframe tbody tr th:only-of-type {\n",
       "        vertical-align: middle;\n",
       "    }\n",
       "\n",
       "    .dataframe tbody tr th {\n",
       "        vertical-align: top;\n",
       "    }\n",
       "\n",
       "    .dataframe thead th {\n",
       "        text-align: right;\n",
       "    }\n",
       "</style>\n",
       "<table border=\"1\" class=\"dataframe\">\n",
       "  <thead>\n",
       "    <tr style=\"text-align: right;\">\n",
       "      <th></th>\n",
       "      <th>LastName</th>\n",
       "      <th>FirstName</th>\n",
       "      <th>CarID</th>\n",
       "      <th>CurrentEmploymentType</th>\n",
       "      <th>CurrentEmploymentTitle</th>\n",
       "    </tr>\n",
       "  </thead>\n",
       "  <tbody>\n",
       "    <tr>\n",
       "      <th>0</th>\n",
       "      <td>Calixto</td>\n",
       "      <td>Nils</td>\n",
       "      <td>1.0</td>\n",
       "      <td>Information Technology</td>\n",
       "      <td>IT Helpdesk</td>\n",
       "    </tr>\n",
       "    <tr>\n",
       "      <th>1</th>\n",
       "      <td>Azada</td>\n",
       "      <td>Lars</td>\n",
       "      <td>2.0</td>\n",
       "      <td>Engineering</td>\n",
       "      <td>Engineer</td>\n",
       "    </tr>\n",
       "    <tr>\n",
       "      <th>2</th>\n",
       "      <td>Balas</td>\n",
       "      <td>Felix</td>\n",
       "      <td>3.0</td>\n",
       "      <td>Engineering</td>\n",
       "      <td>Engineer</td>\n",
       "    </tr>\n",
       "    <tr>\n",
       "      <th>3</th>\n",
       "      <td>Barranco</td>\n",
       "      <td>Ingrid</td>\n",
       "      <td>4.0</td>\n",
       "      <td>Executive</td>\n",
       "      <td>SVP/CFO</td>\n",
       "    </tr>\n",
       "    <tr>\n",
       "      <th>4</th>\n",
       "      <td>Baza</td>\n",
       "      <td>Isak</td>\n",
       "      <td>5.0</td>\n",
       "      <td>Information Technology</td>\n",
       "      <td>IT Technician</td>\n",
       "    </tr>\n",
       "  </tbody>\n",
       "</table>\n",
       "</div>"
      ],
      "text/plain": [
       "   LastName FirstName  CarID   CurrentEmploymentType CurrentEmploymentTitle\n",
       "0   Calixto      Nils    1.0  Information Technology            IT Helpdesk\n",
       "1     Azada      Lars    2.0             Engineering               Engineer\n",
       "2     Balas     Felix    3.0             Engineering               Engineer\n",
       "3  Barranco    Ingrid    4.0               Executive                SVP/CFO\n",
       "4      Baza      Isak    5.0  Information Technology          IT Technician"
      ]
     },
     "execution_count": 11,
     "metadata": {},
     "output_type": "execute_result"
    }
   ],
   "source": [
    "ca = pd.read_csv('data/car-assignments.csv')\n",
    "ca.head()"
   ]
  },
  {
   "cell_type": "code",
   "execution_count": 12,
   "metadata": {},
   "outputs": [
    {
     "data": {
      "text/html": [
       "<div>\n",
       "<style scoped>\n",
       "    .dataframe tbody tr th:only-of-type {\n",
       "        vertical-align: middle;\n",
       "    }\n",
       "\n",
       "    .dataframe tbody tr th {\n",
       "        vertical-align: top;\n",
       "    }\n",
       "\n",
       "    .dataframe thead th {\n",
       "        text-align: right;\n",
       "    }\n",
       "</style>\n",
       "<table border=\"1\" class=\"dataframe\">\n",
       "  <thead>\n",
       "    <tr style=\"text-align: right;\">\n",
       "      <th></th>\n",
       "      <th>Timestamp</th>\n",
       "      <th>id</th>\n",
       "      <th>lat</th>\n",
       "      <th>long</th>\n",
       "    </tr>\n",
       "  </thead>\n",
       "  <tbody>\n",
       "    <tr>\n",
       "      <th>0</th>\n",
       "      <td>01/06/2014 06:28:01</td>\n",
       "      <td>35</td>\n",
       "      <td>36.076225</td>\n",
       "      <td>24.874689</td>\n",
       "    </tr>\n",
       "    <tr>\n",
       "      <th>1</th>\n",
       "      <td>01/06/2014 06:28:01</td>\n",
       "      <td>35</td>\n",
       "      <td>36.076220</td>\n",
       "      <td>24.874596</td>\n",
       "    </tr>\n",
       "    <tr>\n",
       "      <th>2</th>\n",
       "      <td>01/06/2014 06:28:03</td>\n",
       "      <td>35</td>\n",
       "      <td>36.076211</td>\n",
       "      <td>24.874443</td>\n",
       "    </tr>\n",
       "    <tr>\n",
       "      <th>3</th>\n",
       "      <td>01/06/2014 06:28:05</td>\n",
       "      <td>35</td>\n",
       "      <td>36.076217</td>\n",
       "      <td>24.874253</td>\n",
       "    </tr>\n",
       "    <tr>\n",
       "      <th>4</th>\n",
       "      <td>01/06/2014 06:28:06</td>\n",
       "      <td>35</td>\n",
       "      <td>36.076214</td>\n",
       "      <td>24.874167</td>\n",
       "    </tr>\n",
       "  </tbody>\n",
       "</table>\n",
       "</div>"
      ],
      "text/plain": [
       "             Timestamp  id        lat       long\n",
       "0  01/06/2014 06:28:01  35  36.076225  24.874689\n",
       "1  01/06/2014 06:28:01  35  36.076220  24.874596\n",
       "2  01/06/2014 06:28:03  35  36.076211  24.874443\n",
       "3  01/06/2014 06:28:05  35  36.076217  24.874253\n",
       "4  01/06/2014 06:28:06  35  36.076214  24.874167"
      ]
     },
     "execution_count": 12,
     "metadata": {},
     "output_type": "execute_result"
    }
   ],
   "source": [
    "gps = pd.read_csv('data/gps.csv')\n",
    "gps.head()"
   ]
  },
  {
   "cell_type": "code",
   "execution_count": 13,
   "metadata": {},
   "outputs": [
    {
     "data": {
      "text/plain": [
       "array([ 1.,  2.,  3.,  4.,  5.,  6.,  7.,  8.,  9., 10., 11., 12., 13.,\n",
       "       14., 15., 16., 17., 18., 19., 20., 21., 22., 23., 24., 25., 26.,\n",
       "       27., 28., 29., 30., 31., 32., 33., 34., 35., nan])"
      ]
     },
     "execution_count": 13,
     "metadata": {},
     "output_type": "execute_result"
    }
   ],
   "source": [
    "ca['CarID'].unique()"
   ]
  },
  {
   "cell_type": "code",
   "execution_count": null,
   "metadata": {},
   "outputs": [],
   "source": []
  },
  {
   "cell_type": "code",
   "execution_count": null,
   "metadata": {},
   "outputs": [],
   "source": []
  }
 ],
 "metadata": {
  "kernelspec": {
   "display_name": "Python 3",
   "language": "python",
   "name": "python3"
  },
  "language_info": {
   "codemirror_mode": {
    "name": "ipython",
    "version": 3
   },
   "file_extension": ".py",
   "mimetype": "text/x-python",
   "name": "python",
   "nbconvert_exporter": "python",
   "pygments_lexer": "ipython3",
   "version": "3.10.7"
  },
  "orig_nbformat": 4
 },
 "nbformat": 4,
 "nbformat_minor": 2
}
