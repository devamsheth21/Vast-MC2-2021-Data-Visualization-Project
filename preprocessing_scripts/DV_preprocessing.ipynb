{
  "nbformat": 4,
  "nbformat_minor": 0,
  "metadata": {
    "colab": {
      "provenance": []
    },
    "kernelspec": {
      "name": "python3",
      "display_name": "Python 3"
    },
    "language_info": {
      "name": "python"
    }
  },
  "cells": [
    {
      "cell_type": "code",
      "execution_count": null,
      "metadata": {
        "id": "tgcsSXRsqpTd"
      },
      "outputs": [],
      "source": [
        "import pandas as pd\n",
        "# gps_data = pd.read_csv(\"gps.csv\")\n",
        "# cars_data = pd.read_csv(\"car-assignments.csv\")\n",
        "cc_data = pd.read_csv(\"cc_data.csv\",encoding='cp1252')\n",
        "# loyalty_data = pd.read_csv(\"loyalty_data.csv\",encoding='cp1252')"
      ]
    },
    {
      "cell_type": "code",
      "source": [
        "len(cc_data['location'].unique())"
      ],
      "metadata": {
        "id": "z5aCEA6WJtJQ",
        "outputId": "885c3988-2594-4550-bcbd-fc1f8f61f86a",
        "colab": {
          "base_uri": "https://localhost:8080/"
        }
      },
      "execution_count": null,
      "outputs": [
        {
          "output_type": "execute_result",
          "data": {
            "text/plain": [
              "34"
            ]
          },
          "metadata": {},
          "execution_count": 5
        }
      ]
    },
    {
      "cell_type": "code",
      "source": [
        "print(pd.to_datetime(cc_data['timestamp'][0]))"
      ],
      "metadata": {
        "colab": {
          "base_uri": "https://localhost:8080/"
        },
        "id": "7EAOu-RZDIfp",
        "outputId": "4ab9efa0-c596-49ac-c72d-be86ee5c64f3"
      },
      "execution_count": null,
      "outputs": [
        {
          "output_type": "stream",
          "name": "stdout",
          "text": [
            "2014-01-06 07:28:00\n"
          ]
        }
      ]
    },
    {
      "cell_type": "code",
      "source": [
        "cc_data['timestamp'] = pd.to_datetime(cc_data['timestamp'])"
      ],
      "metadata": {
        "id": "l85F9BQLDgm8"
      },
      "execution_count": null,
      "outputs": []
    },
    {
      "cell_type": "code",
      "source": [
        "cc_data['time'] = cc_data['timestamp'].dt.time\n",
        "cc_data['date'] = cc_data['timestamp'].dt.date"
      ],
      "metadata": {
        "id": "QusM3ZstByue"
      },
      "execution_count": null,
      "outputs": []
    },
    {
      "cell_type": "code",
      "source": [
        "cc_data['time']"
      ],
      "metadata": {
        "colab": {
          "base_uri": "https://localhost:8080/"
        },
        "id": "1r8mXZKr0Igm",
        "outputId": "1123641d-bb6f-4aac-b742-c1de5a8e9cec"
      },
      "execution_count": null,
      "outputs": [
        {
          "output_type": "execute_result",
          "data": {
            "text/plain": [
              "0       07:28:00\n",
              "1       07:34:00\n",
              "2       07:35:00\n",
              "3       07:36:00\n",
              "4       07:37:00\n",
              "          ...   \n",
              "1485    20:16:00\n",
              "1486    20:22:00\n",
              "1487    20:25:00\n",
              "1488    20:30:00\n",
              "1489    20:51:00\n",
              "Name: time, Length: 1490, dtype: object"
            ]
          },
          "metadata": {},
          "execution_count": 13
        }
      ]
    },
    {
      "cell_type": "code",
      "source": [],
      "metadata": {
        "id": "KeGntbGL0USv"
      },
      "execution_count": null,
      "outputs": []
    },
    {
      "cell_type": "code",
      "source": [
        "cc_data[['time','date','timestamp']]"
      ],
      "metadata": {
        "colab": {
          "base_uri": "https://localhost:8080/",
          "height": 423
        },
        "id": "bRGWEhV4Dq-h",
        "outputId": "1049c733-97a3-4c43-e9ae-863231a589ee"
      },
      "execution_count": null,
      "outputs": [
        {
          "output_type": "execute_result",
          "data": {
            "text/plain": [
              "          time        date           timestamp\n",
              "0     07:28:00  2014-01-06 2014-01-06 07:28:00\n",
              "1     07:34:00  2014-01-06 2014-01-06 07:34:00\n",
              "2     07:35:00  2014-01-06 2014-01-06 07:35:00\n",
              "3     07:36:00  2014-01-06 2014-01-06 07:36:00\n",
              "4     07:37:00  2014-01-06 2014-01-06 07:37:00\n",
              "...        ...         ...                 ...\n",
              "1485  20:16:00  2014-01-19 2014-01-19 20:16:00\n",
              "1486  20:22:00  2014-01-19 2014-01-19 20:22:00\n",
              "1487  20:25:00  2014-01-19 2014-01-19 20:25:00\n",
              "1488  20:30:00  2014-01-19 2014-01-19 20:30:00\n",
              "1489  20:51:00  2014-01-19 2014-01-19 20:51:00\n",
              "\n",
              "[1490 rows x 3 columns]"
            ],
            "text/html": [
              "\n",
              "  <div id=\"df-7ee1ee94-f5a0-42a3-9f08-32150e1432de\">\n",
              "    <div class=\"colab-df-container\">\n",
              "      <div>\n",
              "<style scoped>\n",
              "    .dataframe tbody tr th:only-of-type {\n",
              "        vertical-align: middle;\n",
              "    }\n",
              "\n",
              "    .dataframe tbody tr th {\n",
              "        vertical-align: top;\n",
              "    }\n",
              "\n",
              "    .dataframe thead th {\n",
              "        text-align: right;\n",
              "    }\n",
              "</style>\n",
              "<table border=\"1\" class=\"dataframe\">\n",
              "  <thead>\n",
              "    <tr style=\"text-align: right;\">\n",
              "      <th></th>\n",
              "      <th>time</th>\n",
              "      <th>date</th>\n",
              "      <th>timestamp</th>\n",
              "    </tr>\n",
              "  </thead>\n",
              "  <tbody>\n",
              "    <tr>\n",
              "      <th>0</th>\n",
              "      <td>07:28:00</td>\n",
              "      <td>2014-01-06</td>\n",
              "      <td>2014-01-06 07:28:00</td>\n",
              "    </tr>\n",
              "    <tr>\n",
              "      <th>1</th>\n",
              "      <td>07:34:00</td>\n",
              "      <td>2014-01-06</td>\n",
              "      <td>2014-01-06 07:34:00</td>\n",
              "    </tr>\n",
              "    <tr>\n",
              "      <th>2</th>\n",
              "      <td>07:35:00</td>\n",
              "      <td>2014-01-06</td>\n",
              "      <td>2014-01-06 07:35:00</td>\n",
              "    </tr>\n",
              "    <tr>\n",
              "      <th>3</th>\n",
              "      <td>07:36:00</td>\n",
              "      <td>2014-01-06</td>\n",
              "      <td>2014-01-06 07:36:00</td>\n",
              "    </tr>\n",
              "    <tr>\n",
              "      <th>4</th>\n",
              "      <td>07:37:00</td>\n",
              "      <td>2014-01-06</td>\n",
              "      <td>2014-01-06 07:37:00</td>\n",
              "    </tr>\n",
              "    <tr>\n",
              "      <th>...</th>\n",
              "      <td>...</td>\n",
              "      <td>...</td>\n",
              "      <td>...</td>\n",
              "    </tr>\n",
              "    <tr>\n",
              "      <th>1485</th>\n",
              "      <td>20:16:00</td>\n",
              "      <td>2014-01-19</td>\n",
              "      <td>2014-01-19 20:16:00</td>\n",
              "    </tr>\n",
              "    <tr>\n",
              "      <th>1486</th>\n",
              "      <td>20:22:00</td>\n",
              "      <td>2014-01-19</td>\n",
              "      <td>2014-01-19 20:22:00</td>\n",
              "    </tr>\n",
              "    <tr>\n",
              "      <th>1487</th>\n",
              "      <td>20:25:00</td>\n",
              "      <td>2014-01-19</td>\n",
              "      <td>2014-01-19 20:25:00</td>\n",
              "    </tr>\n",
              "    <tr>\n",
              "      <th>1488</th>\n",
              "      <td>20:30:00</td>\n",
              "      <td>2014-01-19</td>\n",
              "      <td>2014-01-19 20:30:00</td>\n",
              "    </tr>\n",
              "    <tr>\n",
              "      <th>1489</th>\n",
              "      <td>20:51:00</td>\n",
              "      <td>2014-01-19</td>\n",
              "      <td>2014-01-19 20:51:00</td>\n",
              "    </tr>\n",
              "  </tbody>\n",
              "</table>\n",
              "<p>1490 rows × 3 columns</p>\n",
              "</div>\n",
              "      <button class=\"colab-df-convert\" onclick=\"convertToInteractive('df-7ee1ee94-f5a0-42a3-9f08-32150e1432de')\"\n",
              "              title=\"Convert this dataframe to an interactive table.\"\n",
              "              style=\"display:none;\">\n",
              "        \n",
              "  <svg xmlns=\"http://www.w3.org/2000/svg\" height=\"24px\"viewBox=\"0 0 24 24\"\n",
              "       width=\"24px\">\n",
              "    <path d=\"M0 0h24v24H0V0z\" fill=\"none\"/>\n",
              "    <path d=\"M18.56 5.44l.94 2.06.94-2.06 2.06-.94-2.06-.94-.94-2.06-.94 2.06-2.06.94zm-11 1L8.5 8.5l.94-2.06 2.06-.94-2.06-.94L8.5 2.5l-.94 2.06-2.06.94zm10 10l.94 2.06.94-2.06 2.06-.94-2.06-.94-.94-2.06-.94 2.06-2.06.94z\"/><path d=\"M17.41 7.96l-1.37-1.37c-.4-.4-.92-.59-1.43-.59-.52 0-1.04.2-1.43.59L10.3 9.45l-7.72 7.72c-.78.78-.78 2.05 0 2.83L4 21.41c.39.39.9.59 1.41.59.51 0 1.02-.2 1.41-.59l7.78-7.78 2.81-2.81c.8-.78.8-2.07 0-2.86zM5.41 20L4 18.59l7.72-7.72 1.47 1.35L5.41 20z\"/>\n",
              "  </svg>\n",
              "      </button>\n",
              "      \n",
              "  <style>\n",
              "    .colab-df-container {\n",
              "      display:flex;\n",
              "      flex-wrap:wrap;\n",
              "      gap: 12px;\n",
              "    }\n",
              "\n",
              "    .colab-df-convert {\n",
              "      background-color: #E8F0FE;\n",
              "      border: none;\n",
              "      border-radius: 50%;\n",
              "      cursor: pointer;\n",
              "      display: none;\n",
              "      fill: #1967D2;\n",
              "      height: 32px;\n",
              "      padding: 0 0 0 0;\n",
              "      width: 32px;\n",
              "    }\n",
              "\n",
              "    .colab-df-convert:hover {\n",
              "      background-color: #E2EBFA;\n",
              "      box-shadow: 0px 1px 2px rgba(60, 64, 67, 0.3), 0px 1px 3px 1px rgba(60, 64, 67, 0.15);\n",
              "      fill: #174EA6;\n",
              "    }\n",
              "\n",
              "    [theme=dark] .colab-df-convert {\n",
              "      background-color: #3B4455;\n",
              "      fill: #D2E3FC;\n",
              "    }\n",
              "\n",
              "    [theme=dark] .colab-df-convert:hover {\n",
              "      background-color: #434B5C;\n",
              "      box-shadow: 0px 1px 3px 1px rgba(0, 0, 0, 0.15);\n",
              "      filter: drop-shadow(0px 1px 2px rgba(0, 0, 0, 0.3));\n",
              "      fill: #FFFFFF;\n",
              "    }\n",
              "  </style>\n",
              "\n",
              "      <script>\n",
              "        const buttonEl =\n",
              "          document.querySelector('#df-7ee1ee94-f5a0-42a3-9f08-32150e1432de button.colab-df-convert');\n",
              "        buttonEl.style.display =\n",
              "          google.colab.kernel.accessAllowed ? 'block' : 'none';\n",
              "\n",
              "        async function convertToInteractive(key) {\n",
              "          const element = document.querySelector('#df-7ee1ee94-f5a0-42a3-9f08-32150e1432de');\n",
              "          const dataTable =\n",
              "            await google.colab.kernel.invokeFunction('convertToInteractive',\n",
              "                                                     [key], {});\n",
              "          if (!dataTable) return;\n",
              "\n",
              "          const docLinkHtml = 'Like what you see? Visit the ' +\n",
              "            '<a target=\"_blank\" href=https://colab.research.google.com/notebooks/data_table.ipynb>data table notebook</a>'\n",
              "            + ' to learn more about interactive tables.';\n",
              "          element.innerHTML = '';\n",
              "          dataTable['output_type'] = 'display_data';\n",
              "          await google.colab.output.renderOutput(dataTable, element);\n",
              "          const docLink = document.createElement('div');\n",
              "          docLink.innerHTML = docLinkHtml;\n",
              "          element.appendChild(docLink);\n",
              "        }\n",
              "      </script>\n",
              "    </div>\n",
              "  </div>\n",
              "  "
            ]
          },
          "metadata": {},
          "execution_count": 20
        }
      ]
    },
    {
      "cell_type": "code",
      "source": [
        "type(cc_data['date'][0])"
      ],
      "metadata": {
        "colab": {
          "base_uri": "https://localhost:8080/"
        },
        "id": "1Wj2gvW2HY2s",
        "outputId": "1243ce55-9dca-493f-bd70-04ca4777ab01"
      },
      "execution_count": null,
      "outputs": [
        {
          "output_type": "execute_result",
          "data": {
            "text/plain": [
              "datetime.date"
            ]
          },
          "metadata": {},
          "execution_count": 25
        }
      ]
    },
    {
      "cell_type": "code",
      "source": [
        "cc_data.to_csv('cctime_data.csv')"
      ],
      "metadata": {
        "id": "6vcPysFgD15r"
      },
      "execution_count": null,
      "outputs": []
    },
    {
      "cell_type": "code",
      "source": [
        "cc_data['last4ccnum'].value_counts()"
      ],
      "metadata": {
        "colab": {
          "base_uri": "https://localhost:8080/"
        },
        "id": "wzvkWFkyvjuR",
        "outputId": "78861aa5-4441-4bf1-ee62-a19e0991fddc"
      },
      "execution_count": null,
      "outputs": [
        {
          "output_type": "execute_result",
          "data": {
            "text/plain": [
              "6901    37\n",
              "8332    36\n",
              "3484    35\n",
              "5368    35\n",
              "8156    34\n",
              "7688    34\n",
              "7819    34\n",
              "7384    33\n",
              "8202    33\n",
              "7354    33\n",
              "2142    33\n",
              "3853    33\n",
              "1310    33\n",
              "2463    32\n",
              "1321    32\n",
              "1874    32\n",
              "1286    32\n",
              "4434    32\n",
              "4795    32\n",
              "8411    32\n",
              "8129    32\n",
              "9405    32\n",
              "6895    31\n",
              "5407    31\n",
              "2540    31\n",
              "1415    31\n",
              "7117    31\n",
              "9617    31\n",
              "4948    30\n",
              "6899    30\n",
              "1877    30\n",
              "6816    30\n",
              "7108    30\n",
              "7889    30\n",
              "7253    30\n",
              "3492    29\n",
              "2681    29\n",
              "9635    28\n",
              "2418    28\n",
              "9551    28\n",
              "9683    28\n",
              "6691    26\n",
              "7792    25\n",
              "3547    20\n",
              "9241    19\n",
              "9735    18\n",
              "8642    15\n",
              "5921    14\n",
              "2276    12\n",
              "3506    11\n",
              "9220    10\n",
              "4530    10\n",
              "5010     5\n",
              "9152     4\n",
              "9614     4\n",
              "Name: last4ccnum, dtype: int64"
            ]
          },
          "metadata": {},
          "execution_count": 9
        }
      ]
    },
    {
      "cell_type": "code",
      "source": [
        "len(cc_data['last4ccnum'].unique())"
      ],
      "metadata": {
        "colab": {
          "base_uri": "https://localhost:8080/"
        },
        "id": "JT0w9_2VGS6w",
        "outputId": "8694ec48-7977-46be-80b8-d70f61bf363c"
      },
      "execution_count": null,
      "outputs": [
        {
          "output_type": "execute_result",
          "data": {
            "text/plain": [
              "55"
            ]
          },
          "metadata": {},
          "execution_count": 15
        }
      ]
    },
    {
      "cell_type": "code",
      "source": [
        "cc_data['location'].value_counts()"
      ],
      "metadata": {
        "colab": {
          "base_uri": "https://localhost:8080/"
        },
        "id": "x3lWWUSruF33",
        "outputId": "7ca3635c-7225-4699-cc4d-57d11ca709c7"
      },
      "execution_count": null,
      "outputs": [
        {
          "output_type": "execute_result",
          "data": {
            "text/plain": [
              "Katerina's Cafe                 212\n",
              "Hippokampos                     171\n",
              "Guy's Gyros                     158\n",
              "Brew've Been Served             156\n",
              "Hallowed Grounds                 92\n",
              "Ouzeri Elian                     87\n",
              "Abila Zacharo                    72\n",
              "Gelatogalore                     64\n",
              "Kalami Kafenion                  64\n",
              "Frydos Autosupply n' More        47\n",
              "Bean There Done That             47\n",
              "Coffee Cameleon                  38\n",
              "Jack's Magical Beans             37\n",
              "Brewed Awakenings                30\n",
              "Abila Airport                    25\n",
              "Albert's Fine Clothing           25\n",
              "Nationwide Refinery              24\n",
              "Shoppers' Delight                20\n",
              "Carlyle Chemical Inc.            19\n",
              "Stewart and Sons Fabrication     18\n",
              "Kronos Mart                      10\n",
              "General Grocer                   10\n",
              "Chostus Hotel                     9\n",
              "Desafio Golf Course               8\n",
              "Roberts and Sons                  8\n",
              "Coffee Shack                      8\n",
              "Kronos Pipe and Irrigation        6\n",
              "Ahaggo Museum                     6\n",
              "Maximum Iron and Steel            6\n",
              "Abila Scrapyard                   4\n",
              "Octavio's Office Supplies         4\n",
              "Frank's Fuel                      2\n",
              "U-Pump                            2\n",
              "Daily Dealz                       1\n",
              "Name: location, dtype: int64"
            ]
          },
          "metadata": {},
          "execution_count": 4
        }
      ]
    },
    {
      "cell_type": "code",
      "source": [
        "sorted(gps_data['id'].unique())"
      ],
      "metadata": {
        "colab": {
          "base_uri": "https://localhost:8080/"
        },
        "id": "tEPi3jx7rxwV",
        "outputId": "b47d92d7-5095-481b-e788-f719c6f7788f"
      },
      "execution_count": null,
      "outputs": [
        {
          "output_type": "execute_result",
          "data": {
            "text/plain": [
              "[1,\n",
              " 2,\n",
              " 3,\n",
              " 4,\n",
              " 5,\n",
              " 6,\n",
              " 7,\n",
              " 8,\n",
              " 9,\n",
              " 10,\n",
              " 11,\n",
              " 12,\n",
              " 13,\n",
              " 14,\n",
              " 15,\n",
              " 16,\n",
              " 17,\n",
              " 18,\n",
              " 19,\n",
              " 20,\n",
              " 21,\n",
              " 22,\n",
              " 23,\n",
              " 24,\n",
              " 25,\n",
              " 26,\n",
              " 27,\n",
              " 28,\n",
              " 29,\n",
              " 30,\n",
              " 31,\n",
              " 32,\n",
              " 33,\n",
              " 34,\n",
              " 35,\n",
              " 101,\n",
              " 104,\n",
              " 105,\n",
              " 106,\n",
              " 107]"
            ]
          },
          "metadata": {},
          "execution_count": 21
        }
      ]
    },
    {
      "cell_type": "code",
      "source": [
        "cars_data['CarID'].value_counts()"
      ],
      "metadata": {
        "colab": {
          "base_uri": "https://localhost:8080/"
        },
        "id": "RZZT_csEsY7z",
        "outputId": "67642d52-0de8-41e3-9543-704ba7f0804a"
      },
      "execution_count": null,
      "outputs": [
        {
          "output_type": "execute_result",
          "data": {
            "text/plain": [
              "1.0     1\n",
              "27.0    1\n",
              "21.0    1\n",
              "22.0    1\n",
              "23.0    1\n",
              "24.0    1\n",
              "25.0    1\n",
              "26.0    1\n",
              "28.0    1\n",
              "19.0    1\n",
              "29.0    1\n",
              "30.0    1\n",
              "31.0    1\n",
              "32.0    1\n",
              "33.0    1\n",
              "34.0    1\n",
              "20.0    1\n",
              "18.0    1\n",
              "2.0     1\n",
              "9.0     1\n",
              "3.0     1\n",
              "4.0     1\n",
              "5.0     1\n",
              "6.0     1\n",
              "7.0     1\n",
              "8.0     1\n",
              "10.0    1\n",
              "17.0    1\n",
              "11.0    1\n",
              "12.0    1\n",
              "13.0    1\n",
              "14.0    1\n",
              "15.0    1\n",
              "16.0    1\n",
              "35.0    1\n",
              "Name: CarID, dtype: int64"
            ]
          },
          "metadata": {},
          "execution_count": 7
        }
      ]
    },
    {
      "cell_type": "code",
      "source": [
        "max(gps_data['Timestamp'])"
      ],
      "metadata": {
        "colab": {
          "base_uri": "https://localhost:8080/",
          "height": 35
        },
        "id": "o2Z5y5G-s5S1",
        "outputId": "fcc87309-39de-439d-a0aa-6f87e2ef19c8"
      },
      "execution_count": null,
      "outputs": [
        {
          "output_type": "execute_result",
          "data": {
            "text/plain": [
              "'01/19/2014 20:56:55'"
            ],
            "application/vnd.google.colaboratory.intrinsic+json": {
              "type": "string"
            }
          },
          "metadata": {},
          "execution_count": 13
        }
      ]
    },
    {
      "cell_type": "code",
      "source": [
        "min(gps_data['Timestamp'])"
      ],
      "metadata": {
        "colab": {
          "base_uri": "https://localhost:8080/",
          "height": 35
        },
        "id": "_7HzrTrWtKWN",
        "outputId": "eccec17e-0560-4a6d-d078-8c837d7b1ef6"
      },
      "execution_count": null,
      "outputs": [
        {
          "output_type": "execute_result",
          "data": {
            "text/plain": [
              "'01/06/2014 06:28:01'"
            ],
            "application/vnd.google.colaboratory.intrinsic+json": {
              "type": "string"
            }
          },
          "metadata": {},
          "execution_count": 14
        }
      ]
    },
    {
      "cell_type": "code",
      "source": [
        "len(gps_data['Timestamp'].value_counts())"
      ],
      "metadata": {
        "colab": {
          "base_uri": "https://localhost:8080/"
        },
        "id": "AUp_ozeltoKt",
        "outputId": "42c51c81-68e2-4434-a1e8-98fb3f64475c"
      },
      "execution_count": null,
      "outputs": [
        {
          "output_type": "execute_result",
          "data": {
            "text/plain": [
              "303206"
            ]
          },
          "metadata": {},
          "execution_count": 16
        }
      ]
    },
    {
      "cell_type": "code",
      "source": [
        "gps_data[gps_data['id']==101].describe()"
      ],
      "metadata": {
        "colab": {
          "base_uri": "https://localhost:8080/",
          "height": 300
        },
        "id": "m_otPZsXttgU",
        "outputId": "9b148e5a-cc41-402a-8ea0-d7670e3d64a4"
      },
      "execution_count": null,
      "outputs": [
        {
          "output_type": "execute_result",
          "data": {
            "text/plain": [
              "            id           lat          long\n",
              "count  17840.0  17840.000000  17840.000000\n",
              "mean     101.0     36.052772     24.866290\n",
              "std        0.0      0.003923      0.021651\n",
              "min      101.0     36.048021     24.825088\n",
              "25%      101.0     36.050222     24.847686\n",
              "50%      101.0     36.050389     24.871064\n",
              "75%      101.0     36.054862     24.880768\n",
              "max      101.0     36.065333     24.908484"
            ],
            "text/html": [
              "\n",
              "  <div id=\"df-ba71492a-9d65-4698-bea3-84b3f950ebc1\">\n",
              "    <div class=\"colab-df-container\">\n",
              "      <div>\n",
              "<style scoped>\n",
              "    .dataframe tbody tr th:only-of-type {\n",
              "        vertical-align: middle;\n",
              "    }\n",
              "\n",
              "    .dataframe tbody tr th {\n",
              "        vertical-align: top;\n",
              "    }\n",
              "\n",
              "    .dataframe thead th {\n",
              "        text-align: right;\n",
              "    }\n",
              "</style>\n",
              "<table border=\"1\" class=\"dataframe\">\n",
              "  <thead>\n",
              "    <tr style=\"text-align: right;\">\n",
              "      <th></th>\n",
              "      <th>id</th>\n",
              "      <th>lat</th>\n",
              "      <th>long</th>\n",
              "    </tr>\n",
              "  </thead>\n",
              "  <tbody>\n",
              "    <tr>\n",
              "      <th>count</th>\n",
              "      <td>17840.0</td>\n",
              "      <td>17840.000000</td>\n",
              "      <td>17840.000000</td>\n",
              "    </tr>\n",
              "    <tr>\n",
              "      <th>mean</th>\n",
              "      <td>101.0</td>\n",
              "      <td>36.052772</td>\n",
              "      <td>24.866290</td>\n",
              "    </tr>\n",
              "    <tr>\n",
              "      <th>std</th>\n",
              "      <td>0.0</td>\n",
              "      <td>0.003923</td>\n",
              "      <td>0.021651</td>\n",
              "    </tr>\n",
              "    <tr>\n",
              "      <th>min</th>\n",
              "      <td>101.0</td>\n",
              "      <td>36.048021</td>\n",
              "      <td>24.825088</td>\n",
              "    </tr>\n",
              "    <tr>\n",
              "      <th>25%</th>\n",
              "      <td>101.0</td>\n",
              "      <td>36.050222</td>\n",
              "      <td>24.847686</td>\n",
              "    </tr>\n",
              "    <tr>\n",
              "      <th>50%</th>\n",
              "      <td>101.0</td>\n",
              "      <td>36.050389</td>\n",
              "      <td>24.871064</td>\n",
              "    </tr>\n",
              "    <tr>\n",
              "      <th>75%</th>\n",
              "      <td>101.0</td>\n",
              "      <td>36.054862</td>\n",
              "      <td>24.880768</td>\n",
              "    </tr>\n",
              "    <tr>\n",
              "      <th>max</th>\n",
              "      <td>101.0</td>\n",
              "      <td>36.065333</td>\n",
              "      <td>24.908484</td>\n",
              "    </tr>\n",
              "  </tbody>\n",
              "</table>\n",
              "</div>\n",
              "      <button class=\"colab-df-convert\" onclick=\"convertToInteractive('df-ba71492a-9d65-4698-bea3-84b3f950ebc1')\"\n",
              "              title=\"Convert this dataframe to an interactive table.\"\n",
              "              style=\"display:none;\">\n",
              "        \n",
              "  <svg xmlns=\"http://www.w3.org/2000/svg\" height=\"24px\"viewBox=\"0 0 24 24\"\n",
              "       width=\"24px\">\n",
              "    <path d=\"M0 0h24v24H0V0z\" fill=\"none\"/>\n",
              "    <path d=\"M18.56 5.44l.94 2.06.94-2.06 2.06-.94-2.06-.94-.94-2.06-.94 2.06-2.06.94zm-11 1L8.5 8.5l.94-2.06 2.06-.94-2.06-.94L8.5 2.5l-.94 2.06-2.06.94zm10 10l.94 2.06.94-2.06 2.06-.94-2.06-.94-.94-2.06-.94 2.06-2.06.94z\"/><path d=\"M17.41 7.96l-1.37-1.37c-.4-.4-.92-.59-1.43-.59-.52 0-1.04.2-1.43.59L10.3 9.45l-7.72 7.72c-.78.78-.78 2.05 0 2.83L4 21.41c.39.39.9.59 1.41.59.51 0 1.02-.2 1.41-.59l7.78-7.78 2.81-2.81c.8-.78.8-2.07 0-2.86zM5.41 20L4 18.59l7.72-7.72 1.47 1.35L5.41 20z\"/>\n",
              "  </svg>\n",
              "      </button>\n",
              "      \n",
              "  <style>\n",
              "    .colab-df-container {\n",
              "      display:flex;\n",
              "      flex-wrap:wrap;\n",
              "      gap: 12px;\n",
              "    }\n",
              "\n",
              "    .colab-df-convert {\n",
              "      background-color: #E8F0FE;\n",
              "      border: none;\n",
              "      border-radius: 50%;\n",
              "      cursor: pointer;\n",
              "      display: none;\n",
              "      fill: #1967D2;\n",
              "      height: 32px;\n",
              "      padding: 0 0 0 0;\n",
              "      width: 32px;\n",
              "    }\n",
              "\n",
              "    .colab-df-convert:hover {\n",
              "      background-color: #E2EBFA;\n",
              "      box-shadow: 0px 1px 2px rgba(60, 64, 67, 0.3), 0px 1px 3px 1px rgba(60, 64, 67, 0.15);\n",
              "      fill: #174EA6;\n",
              "    }\n",
              "\n",
              "    [theme=dark] .colab-df-convert {\n",
              "      background-color: #3B4455;\n",
              "      fill: #D2E3FC;\n",
              "    }\n",
              "\n",
              "    [theme=dark] .colab-df-convert:hover {\n",
              "      background-color: #434B5C;\n",
              "      box-shadow: 0px 1px 3px 1px rgba(0, 0, 0, 0.15);\n",
              "      filter: drop-shadow(0px 1px 2px rgba(0, 0, 0, 0.3));\n",
              "      fill: #FFFFFF;\n",
              "    }\n",
              "  </style>\n",
              "\n",
              "      <script>\n",
              "        const buttonEl =\n",
              "          document.querySelector('#df-ba71492a-9d65-4698-bea3-84b3f950ebc1 button.colab-df-convert');\n",
              "        buttonEl.style.display =\n",
              "          google.colab.kernel.accessAllowed ? 'block' : 'none';\n",
              "\n",
              "        async function convertToInteractive(key) {\n",
              "          const element = document.querySelector('#df-ba71492a-9d65-4698-bea3-84b3f950ebc1');\n",
              "          const dataTable =\n",
              "            await google.colab.kernel.invokeFunction('convertToInteractive',\n",
              "                                                     [key], {});\n",
              "          if (!dataTable) return;\n",
              "\n",
              "          const docLinkHtml = 'Like what you see? Visit the ' +\n",
              "            '<a target=\"_blank\" href=https://colab.research.google.com/notebooks/data_table.ipynb>data table notebook</a>'\n",
              "            + ' to learn more about interactive tables.';\n",
              "          element.innerHTML = '';\n",
              "          dataTable['output_type'] = 'display_data';\n",
              "          await google.colab.output.renderOutput(dataTable, element);\n",
              "          const docLink = document.createElement('div');\n",
              "          docLink.innerHTML = docLinkHtml;\n",
              "          element.appendChild(docLink);\n",
              "        }\n",
              "      </script>\n",
              "    </div>\n",
              "  </div>\n",
              "  "
            ]
          },
          "metadata": {},
          "execution_count": 26
        }
      ]
    },
    {
      "cell_type": "code",
      "source": [
        "cc_data['location'].value_counts()"
      ],
      "metadata": {
        "colab": {
          "base_uri": "https://localhost:8080/"
        },
        "id": "hoJHFAesvAjv",
        "outputId": "bd956028-26c3-49ca-8dd6-24dc087e9f35"
      },
      "execution_count": null,
      "outputs": [
        {
          "output_type": "execute_result",
          "data": {
            "text/plain": [
              "Katerina's Cafe                 212\n",
              "Hippokampos                     171\n",
              "Guy's Gyros                     158\n",
              "Brew've Been Served             156\n",
              "Hallowed Grounds                 92\n",
              "Ouzeri Elian                     87\n",
              "Abila Zacharo                    72\n",
              "Gelatogalore                     64\n",
              "Kalami Kafenion                  64\n",
              "Frydos Autosupply n' More        47\n",
              "Bean There Done That             47\n",
              "Coffee Cameleon                  38\n",
              "Jack's Magical Beans             37\n",
              "Brewed Awakenings                30\n",
              "Abila Airport                    25\n",
              "Albert's Fine Clothing           25\n",
              "Nationwide Refinery              24\n",
              "Shoppers' Delight                20\n",
              "Carlyle Chemical Inc.            19\n",
              "Stewart and Sons Fabrication     18\n",
              "Kronos Mart                      10\n",
              "General Grocer                   10\n",
              "Chostus Hotel                     9\n",
              "Desafio Golf Course               8\n",
              "Roberts and Sons                  8\n",
              "Coffee Shack                      8\n",
              "Kronos Pipe and Irrigation        6\n",
              "Ahaggo Museum                     6\n",
              "Maximum Iron and Steel            6\n",
              "Abila Scrapyard                   4\n",
              "Octavio's Office Supplies         4\n",
              "Frank's Fuel                      2\n",
              "U-Pump                            2\n",
              "Daily Dealz                       1\n",
              "Name: location, dtype: int64"
            ]
          },
          "metadata": {},
          "execution_count": 30
        }
      ]
    },
    {
      "cell_type": "code",
      "source": [
        "frequencydata = pd.DataFrame(loyalty_data['location'].value_counts().reset_index().values,columns=['location','loyalty_count'])  "
      ],
      "metadata": {
        "id": "VjNQ4T4FxA95"
      },
      "execution_count": null,
      "outputs": []
    },
    {
      "cell_type": "code",
      "source": [
        "frequencydatacc = pd.DataFrame(cc_data['location'].value_counts().reset_index().values,columns=['location','cc_count'])  "
      ],
      "metadata": {
        "id": "ytzlFWpdyi5a"
      },
      "execution_count": null,
      "outputs": []
    },
    {
      "cell_type": "code",
      "source": [
        "frequencydata"
      ],
      "metadata": {
        "colab": {
          "base_uri": "https://localhost:8080/",
          "height": 1000
        },
        "id": "pJmd8sPJxEV4",
        "outputId": "7c5795bd-d4df-43d2-b639-dec998894081"
      },
      "execution_count": null,
      "outputs": [
        {
          "output_type": "execute_result",
          "data": {
            "text/plain": [
              "                        location loyalty_count\n",
              "0                Katerina's Cafe           195\n",
              "1                    Hippokampos           155\n",
              "2                    Guy's Gyros           146\n",
              "3            Brew've Been Served           140\n",
              "4                   Ouzeri Elian            84\n",
              "5               Hallowed Grounds            80\n",
              "6                  Abila Zacharo            71\n",
              "7                Kalami Kafenion            66\n",
              "8                   Gelatogalore            60\n",
              "9           Bean There Done That            45\n",
              "10     Frydos Autosupply n' More            42\n",
              "11               Coffee Cameleon            37\n",
              "12          Jack's Magical Beans            35\n",
              "13             Brewed Awakenings            29\n",
              "14                 Abila Airport            26\n",
              "15        Albert's Fine Clothing            25\n",
              "16           Nationwide Refinery            23\n",
              "17         Carlyle Chemical Inc.            19\n",
              "18             Shoppers' Delight            18\n",
              "19  Stewart and Sons Fabrication            17\n",
              "20                General Grocer            12\n",
              "21                  Coffee Shack             9\n",
              "22                   Kronos Mart             8\n",
              "23           Desafio Golf Course             8\n",
              "24                 Chostus Hotel             8\n",
              "25                 Ahaggo Museum             6\n",
              "26              Roberts and Sons             6\n",
              "27        Maximum Iron and Steel             6\n",
              "28    Kronos Pipe and Irrigation             6\n",
              "29               Abila Scrapyard             4\n",
              "30     Octavio's Office Supplies             3\n",
              "31                  Frank's Fuel             2\n",
              "32                        U-Pump             1"
            ],
            "text/html": [
              "\n",
              "  <div id=\"df-efc45e3b-044e-417a-b18c-caa2a76b161a\">\n",
              "    <div class=\"colab-df-container\">\n",
              "      <div>\n",
              "<style scoped>\n",
              "    .dataframe tbody tr th:only-of-type {\n",
              "        vertical-align: middle;\n",
              "    }\n",
              "\n",
              "    .dataframe tbody tr th {\n",
              "        vertical-align: top;\n",
              "    }\n",
              "\n",
              "    .dataframe thead th {\n",
              "        text-align: right;\n",
              "    }\n",
              "</style>\n",
              "<table border=\"1\" class=\"dataframe\">\n",
              "  <thead>\n",
              "    <tr style=\"text-align: right;\">\n",
              "      <th></th>\n",
              "      <th>location</th>\n",
              "      <th>loyalty_count</th>\n",
              "    </tr>\n",
              "  </thead>\n",
              "  <tbody>\n",
              "    <tr>\n",
              "      <th>0</th>\n",
              "      <td>Katerina's Cafe</td>\n",
              "      <td>195</td>\n",
              "    </tr>\n",
              "    <tr>\n",
              "      <th>1</th>\n",
              "      <td>Hippokampos</td>\n",
              "      <td>155</td>\n",
              "    </tr>\n",
              "    <tr>\n",
              "      <th>2</th>\n",
              "      <td>Guy's Gyros</td>\n",
              "      <td>146</td>\n",
              "    </tr>\n",
              "    <tr>\n",
              "      <th>3</th>\n",
              "      <td>Brew've Been Served</td>\n",
              "      <td>140</td>\n",
              "    </tr>\n",
              "    <tr>\n",
              "      <th>4</th>\n",
              "      <td>Ouzeri Elian</td>\n",
              "      <td>84</td>\n",
              "    </tr>\n",
              "    <tr>\n",
              "      <th>5</th>\n",
              "      <td>Hallowed Grounds</td>\n",
              "      <td>80</td>\n",
              "    </tr>\n",
              "    <tr>\n",
              "      <th>6</th>\n",
              "      <td>Abila Zacharo</td>\n",
              "      <td>71</td>\n",
              "    </tr>\n",
              "    <tr>\n",
              "      <th>7</th>\n",
              "      <td>Kalami Kafenion</td>\n",
              "      <td>66</td>\n",
              "    </tr>\n",
              "    <tr>\n",
              "      <th>8</th>\n",
              "      <td>Gelatogalore</td>\n",
              "      <td>60</td>\n",
              "    </tr>\n",
              "    <tr>\n",
              "      <th>9</th>\n",
              "      <td>Bean There Done That</td>\n",
              "      <td>45</td>\n",
              "    </tr>\n",
              "    <tr>\n",
              "      <th>10</th>\n",
              "      <td>Frydos Autosupply n' More</td>\n",
              "      <td>42</td>\n",
              "    </tr>\n",
              "    <tr>\n",
              "      <th>11</th>\n",
              "      <td>Coffee Cameleon</td>\n",
              "      <td>37</td>\n",
              "    </tr>\n",
              "    <tr>\n",
              "      <th>12</th>\n",
              "      <td>Jack's Magical Beans</td>\n",
              "      <td>35</td>\n",
              "    </tr>\n",
              "    <tr>\n",
              "      <th>13</th>\n",
              "      <td>Brewed Awakenings</td>\n",
              "      <td>29</td>\n",
              "    </tr>\n",
              "    <tr>\n",
              "      <th>14</th>\n",
              "      <td>Abila Airport</td>\n",
              "      <td>26</td>\n",
              "    </tr>\n",
              "    <tr>\n",
              "      <th>15</th>\n",
              "      <td>Albert's Fine Clothing</td>\n",
              "      <td>25</td>\n",
              "    </tr>\n",
              "    <tr>\n",
              "      <th>16</th>\n",
              "      <td>Nationwide Refinery</td>\n",
              "      <td>23</td>\n",
              "    </tr>\n",
              "    <tr>\n",
              "      <th>17</th>\n",
              "      <td>Carlyle Chemical Inc.</td>\n",
              "      <td>19</td>\n",
              "    </tr>\n",
              "    <tr>\n",
              "      <th>18</th>\n",
              "      <td>Shoppers' Delight</td>\n",
              "      <td>18</td>\n",
              "    </tr>\n",
              "    <tr>\n",
              "      <th>19</th>\n",
              "      <td>Stewart and Sons Fabrication</td>\n",
              "      <td>17</td>\n",
              "    </tr>\n",
              "    <tr>\n",
              "      <th>20</th>\n",
              "      <td>General Grocer</td>\n",
              "      <td>12</td>\n",
              "    </tr>\n",
              "    <tr>\n",
              "      <th>21</th>\n",
              "      <td>Coffee Shack</td>\n",
              "      <td>9</td>\n",
              "    </tr>\n",
              "    <tr>\n",
              "      <th>22</th>\n",
              "      <td>Kronos Mart</td>\n",
              "      <td>8</td>\n",
              "    </tr>\n",
              "    <tr>\n",
              "      <th>23</th>\n",
              "      <td>Desafio Golf Course</td>\n",
              "      <td>8</td>\n",
              "    </tr>\n",
              "    <tr>\n",
              "      <th>24</th>\n",
              "      <td>Chostus Hotel</td>\n",
              "      <td>8</td>\n",
              "    </tr>\n",
              "    <tr>\n",
              "      <th>25</th>\n",
              "      <td>Ahaggo Museum</td>\n",
              "      <td>6</td>\n",
              "    </tr>\n",
              "    <tr>\n",
              "      <th>26</th>\n",
              "      <td>Roberts and Sons</td>\n",
              "      <td>6</td>\n",
              "    </tr>\n",
              "    <tr>\n",
              "      <th>27</th>\n",
              "      <td>Maximum Iron and Steel</td>\n",
              "      <td>6</td>\n",
              "    </tr>\n",
              "    <tr>\n",
              "      <th>28</th>\n",
              "      <td>Kronos Pipe and Irrigation</td>\n",
              "      <td>6</td>\n",
              "    </tr>\n",
              "    <tr>\n",
              "      <th>29</th>\n",
              "      <td>Abila Scrapyard</td>\n",
              "      <td>4</td>\n",
              "    </tr>\n",
              "    <tr>\n",
              "      <th>30</th>\n",
              "      <td>Octavio's Office Supplies</td>\n",
              "      <td>3</td>\n",
              "    </tr>\n",
              "    <tr>\n",
              "      <th>31</th>\n",
              "      <td>Frank's Fuel</td>\n",
              "      <td>2</td>\n",
              "    </tr>\n",
              "    <tr>\n",
              "      <th>32</th>\n",
              "      <td>U-Pump</td>\n",
              "      <td>1</td>\n",
              "    </tr>\n",
              "  </tbody>\n",
              "</table>\n",
              "</div>\n",
              "      <button class=\"colab-df-convert\" onclick=\"convertToInteractive('df-efc45e3b-044e-417a-b18c-caa2a76b161a')\"\n",
              "              title=\"Convert this dataframe to an interactive table.\"\n",
              "              style=\"display:none;\">\n",
              "        \n",
              "  <svg xmlns=\"http://www.w3.org/2000/svg\" height=\"24px\"viewBox=\"0 0 24 24\"\n",
              "       width=\"24px\">\n",
              "    <path d=\"M0 0h24v24H0V0z\" fill=\"none\"/>\n",
              "    <path d=\"M18.56 5.44l.94 2.06.94-2.06 2.06-.94-2.06-.94-.94-2.06-.94 2.06-2.06.94zm-11 1L8.5 8.5l.94-2.06 2.06-.94-2.06-.94L8.5 2.5l-.94 2.06-2.06.94zm10 10l.94 2.06.94-2.06 2.06-.94-2.06-.94-.94-2.06-.94 2.06-2.06.94z\"/><path d=\"M17.41 7.96l-1.37-1.37c-.4-.4-.92-.59-1.43-.59-.52 0-1.04.2-1.43.59L10.3 9.45l-7.72 7.72c-.78.78-.78 2.05 0 2.83L4 21.41c.39.39.9.59 1.41.59.51 0 1.02-.2 1.41-.59l7.78-7.78 2.81-2.81c.8-.78.8-2.07 0-2.86zM5.41 20L4 18.59l7.72-7.72 1.47 1.35L5.41 20z\"/>\n",
              "  </svg>\n",
              "      </button>\n",
              "      \n",
              "  <style>\n",
              "    .colab-df-container {\n",
              "      display:flex;\n",
              "      flex-wrap:wrap;\n",
              "      gap: 12px;\n",
              "    }\n",
              "\n",
              "    .colab-df-convert {\n",
              "      background-color: #E8F0FE;\n",
              "      border: none;\n",
              "      border-radius: 50%;\n",
              "      cursor: pointer;\n",
              "      display: none;\n",
              "      fill: #1967D2;\n",
              "      height: 32px;\n",
              "      padding: 0 0 0 0;\n",
              "      width: 32px;\n",
              "    }\n",
              "\n",
              "    .colab-df-convert:hover {\n",
              "      background-color: #E2EBFA;\n",
              "      box-shadow: 0px 1px 2px rgba(60, 64, 67, 0.3), 0px 1px 3px 1px rgba(60, 64, 67, 0.15);\n",
              "      fill: #174EA6;\n",
              "    }\n",
              "\n",
              "    [theme=dark] .colab-df-convert {\n",
              "      background-color: #3B4455;\n",
              "      fill: #D2E3FC;\n",
              "    }\n",
              "\n",
              "    [theme=dark] .colab-df-convert:hover {\n",
              "      background-color: #434B5C;\n",
              "      box-shadow: 0px 1px 3px 1px rgba(0, 0, 0, 0.15);\n",
              "      filter: drop-shadow(0px 1px 2px rgba(0, 0, 0, 0.3));\n",
              "      fill: #FFFFFF;\n",
              "    }\n",
              "  </style>\n",
              "\n",
              "      <script>\n",
              "        const buttonEl =\n",
              "          document.querySelector('#df-efc45e3b-044e-417a-b18c-caa2a76b161a button.colab-df-convert');\n",
              "        buttonEl.style.display =\n",
              "          google.colab.kernel.accessAllowed ? 'block' : 'none';\n",
              "\n",
              "        async function convertToInteractive(key) {\n",
              "          const element = document.querySelector('#df-efc45e3b-044e-417a-b18c-caa2a76b161a');\n",
              "          const dataTable =\n",
              "            await google.colab.kernel.invokeFunction('convertToInteractive',\n",
              "                                                     [key], {});\n",
              "          if (!dataTable) return;\n",
              "\n",
              "          const docLinkHtml = 'Like what you see? Visit the ' +\n",
              "            '<a target=\"_blank\" href=https://colab.research.google.com/notebooks/data_table.ipynb>data table notebook</a>'\n",
              "            + ' to learn more about interactive tables.';\n",
              "          element.innerHTML = '';\n",
              "          dataTable['output_type'] = 'display_data';\n",
              "          await google.colab.output.renderOutput(dataTable, element);\n",
              "          const docLink = document.createElement('div');\n",
              "          docLink.innerHTML = docLinkHtml;\n",
              "          element.appendChild(docLink);\n",
              "        }\n",
              "      </script>\n",
              "    </div>\n",
              "  </div>\n",
              "  "
            ]
          },
          "metadata": {},
          "execution_count": 41
        }
      ]
    },
    {
      "cell_type": "code",
      "source": [
        "frequency = frequencydata.merge(frequencydatacc,on='location')"
      ],
      "metadata": {
        "id": "tVIoIXyYxk_Q"
      },
      "execution_count": null,
      "outputs": []
    },
    {
      "cell_type": "code",
      "source": [
        "frequency.to_csv('popularlocationdata.csv',index =False)"
      ],
      "metadata": {
        "id": "fehIX4UvysVn"
      },
      "execution_count": null,
      "outputs": []
    },
    {
      "cell_type": "code",
      "source": [],
      "metadata": {
        "id": "OOj0NnuyyvUo"
      },
      "execution_count": null,
      "outputs": []
    }
  ]
}